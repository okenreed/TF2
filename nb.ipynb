{
 "cells": [
  {
   "cell_type": "code",
   "execution_count": 14,
   "metadata": {},
   "outputs": [],
   "source": [
    "import json\n",
    "import pandas as pd\n",
    "import requests"
   ]
  },
  {
   "cell_type": "code",
   "execution_count": 15,
   "metadata": {},
   "outputs": [
    {
     "name": "stderr",
     "output_type": "stream",
     "text": [
      "/opt/homebrew/lib/python3.11/site-packages/urllib3/connectionpool.py:1045: InsecureRequestWarning: Unverified HTTPS request is being made to host 'logs.tf'. Adding certificate verification is strongly advised. See: https://urllib3.readthedocs.io/en/1.26.x/advanced-usage.html#ssl-warnings\n",
      "  warnings.warn(\n"
     ]
    }
   ],
   "source": [
    "url = 'https://logs.tf/api/v1/log?player=76561198049461668&limit=10'\n",
    "response = requests.get(url, verify=False)\n",
    "game_list = json.loads(response.content)"
   ]
  },
  {
   "cell_type": "code",
   "execution_count": 16,
   "metadata": {},
   "outputs": [],
   "source": [
    "df = pd.DataFrame(columns=['player_id', 'team', 'kills', 'player_class', 'assists', 'dmg', 'deaths'])\n",
    "default_url = 'https://logs.tf/api/v1/log/'"
   ]
  },
  {
   "cell_type": "code",
   "execution_count": 17,
   "metadata": {},
   "outputs": [
    {
     "name": "stderr",
     "output_type": "stream",
     "text": [
      "/opt/homebrew/lib/python3.11/site-packages/urllib3/connectionpool.py:1045: InsecureRequestWarning: Unverified HTTPS request is being made to host 'logs.tf'. Adding certificate verification is strongly advised. See: https://urllib3.readthedocs.io/en/1.26.x/advanced-usage.html#ssl-warnings\n",
      "  warnings.warn(\n",
      "/opt/homebrew/lib/python3.11/site-packages/urllib3/connectionpool.py:1045: InsecureRequestWarning: Unverified HTTPS request is being made to host 'logs.tf'. Adding certificate verification is strongly advised. See: https://urllib3.readthedocs.io/en/1.26.x/advanced-usage.html#ssl-warnings\n",
      "  warnings.warn(\n",
      "/opt/homebrew/lib/python3.11/site-packages/urllib3/connectionpool.py:1045: InsecureRequestWarning: Unverified HTTPS request is being made to host 'logs.tf'. Adding certificate verification is strongly advised. See: https://urllib3.readthedocs.io/en/1.26.x/advanced-usage.html#ssl-warnings\n",
      "  warnings.warn(\n",
      "/opt/homebrew/lib/python3.11/site-packages/urllib3/connectionpool.py:1045: InsecureRequestWarning: Unverified HTTPS request is being made to host 'logs.tf'. Adding certificate verification is strongly advised. See: https://urllib3.readthedocs.io/en/1.26.x/advanced-usage.html#ssl-warnings\n",
      "  warnings.warn(\n",
      "/opt/homebrew/lib/python3.11/site-packages/urllib3/connectionpool.py:1045: InsecureRequestWarning: Unverified HTTPS request is being made to host 'logs.tf'. Adding certificate verification is strongly advised. See: https://urllib3.readthedocs.io/en/1.26.x/advanced-usage.html#ssl-warnings\n",
      "  warnings.warn(\n",
      "/opt/homebrew/lib/python3.11/site-packages/urllib3/connectionpool.py:1045: InsecureRequestWarning: Unverified HTTPS request is being made to host 'logs.tf'. Adding certificate verification is strongly advised. See: https://urllib3.readthedocs.io/en/1.26.x/advanced-usage.html#ssl-warnings\n",
      "  warnings.warn(\n",
      "/opt/homebrew/lib/python3.11/site-packages/urllib3/connectionpool.py:1045: InsecureRequestWarning: Unverified HTTPS request is being made to host 'logs.tf'. Adding certificate verification is strongly advised. See: https://urllib3.readthedocs.io/en/1.26.x/advanced-usage.html#ssl-warnings\n",
      "  warnings.warn(\n",
      "/opt/homebrew/lib/python3.11/site-packages/urllib3/connectionpool.py:1045: InsecureRequestWarning: Unverified HTTPS request is being made to host 'logs.tf'. Adding certificate verification is strongly advised. See: https://urllib3.readthedocs.io/en/1.26.x/advanced-usage.html#ssl-warnings\n",
      "  warnings.warn(\n",
      "/opt/homebrew/lib/python3.11/site-packages/urllib3/connectionpool.py:1045: InsecureRequestWarning: Unverified HTTPS request is being made to host 'logs.tf'. Adding certificate verification is strongly advised. See: https://urllib3.readthedocs.io/en/1.26.x/advanced-usage.html#ssl-warnings\n",
      "  warnings.warn(\n",
      "/opt/homebrew/lib/python3.11/site-packages/urllib3/connectionpool.py:1045: InsecureRequestWarning: Unverified HTTPS request is being made to host 'logs.tf'. Adding certificate verification is strongly advised. See: https://urllib3.readthedocs.io/en/1.26.x/advanced-usage.html#ssl-warnings\n",
      "  warnings.warn(\n"
     ]
    }
   ],
   "source": [
    "for i in game_list['logs']:\n",
    "    if (i['players'] != 12):\n",
    "        continue\n",
    "    game_id = (i['id'])\n",
    "    url = default_url + str(game_id)\n",
    "    response = requests.get(url, verify=False)\n",
    "    stats = json.loads(response.content)\n",
    "    for j in stats['players']:\n",
    "        player_id = j\n",
    "        team = stats['players'][j]['team']\n",
    "        kills = stats['players'][j]['kills']\n",
    "        player_class = stats['players'][j]['class_stats'][0]['type']\n",
    "        assists = stats['players'][j]['assists']\n",
    "        dmg = stats['players'][j]['dmg']\n",
    "        deaths = stats['players'][j]['deaths']\n",
    "\n",
    "        row_dict = {'player_id': player_id, 'team': team, 'kills': kills, 'player_class': player_class, 'assists': assists, 'dmg': dmg, 'deaths': deaths}\n",
    "        temp_df = pd.DataFrame([row_dict])\n",
    "        df = pd.concat([df, temp_df], ignore_index=True)"
   ]
  },
  {
   "cell_type": "code",
   "execution_count": 18,
   "metadata": {},
   "outputs": [
    {
     "data": {
      "text/html": [
       "<div>\n",
       "<style scoped>\n",
       "    .dataframe tbody tr th:only-of-type {\n",
       "        vertical-align: middle;\n",
       "    }\n",
       "\n",
       "    .dataframe tbody tr th {\n",
       "        vertical-align: top;\n",
       "    }\n",
       "\n",
       "    .dataframe thead th {\n",
       "        text-align: right;\n",
       "    }\n",
       "</style>\n",
       "<table border=\"1\" class=\"dataframe\">\n",
       "  <thead>\n",
       "    <tr style=\"text-align: right;\">\n",
       "      <th></th>\n",
       "      <th>player_id</th>\n",
       "      <th>team</th>\n",
       "      <th>kills</th>\n",
       "      <th>player_class</th>\n",
       "      <th>assists</th>\n",
       "      <th>dmg</th>\n",
       "      <th>deaths</th>\n",
       "    </tr>\n",
       "  </thead>\n",
       "  <tbody>\n",
       "    <tr>\n",
       "      <th>0</th>\n",
       "      <td>[U:1:350615048]</td>\n",
       "      <td>Blue</td>\n",
       "      <td>14</td>\n",
       "      <td>soldier</td>\n",
       "      <td>7</td>\n",
       "      <td>7645</td>\n",
       "      <td>19</td>\n",
       "    </tr>\n",
       "    <tr>\n",
       "      <th>1</th>\n",
       "      <td>[U:1:344336241]</td>\n",
       "      <td>Blue</td>\n",
       "      <td>26</td>\n",
       "      <td>soldier</td>\n",
       "      <td>5</td>\n",
       "      <td>7757</td>\n",
       "      <td>26</td>\n",
       "    </tr>\n",
       "    <tr>\n",
       "      <th>2</th>\n",
       "      <td>[U:1:89195940]</td>\n",
       "      <td>Blue</td>\n",
       "      <td>14</td>\n",
       "      <td>demoman</td>\n",
       "      <td>5</td>\n",
       "      <td>7886</td>\n",
       "      <td>10</td>\n",
       "    </tr>\n",
       "    <tr>\n",
       "      <th>3</th>\n",
       "      <td>[U:1:158611277]</td>\n",
       "      <td>Blue</td>\n",
       "      <td>27</td>\n",
       "      <td>scout</td>\n",
       "      <td>8</td>\n",
       "      <td>6912</td>\n",
       "      <td>15</td>\n",
       "    </tr>\n",
       "    <tr>\n",
       "      <th>4</th>\n",
       "      <td>[U:1:239638870]</td>\n",
       "      <td>Red</td>\n",
       "      <td>1</td>\n",
       "      <td>medic</td>\n",
       "      <td>12</td>\n",
       "      <td>424</td>\n",
       "      <td>12</td>\n",
       "    </tr>\n",
       "  </tbody>\n",
       "</table>\n",
       "</div>"
      ],
      "text/plain": [
       "         player_id  team kills player_class assists   dmg deaths\n",
       "0  [U:1:350615048]  Blue    14      soldier       7  7645     19\n",
       "1  [U:1:344336241]  Blue    26      soldier       5  7757     26\n",
       "2   [U:1:89195940]  Blue    14      demoman       5  7886     10\n",
       "3  [U:1:158611277]  Blue    27        scout       8  6912     15\n",
       "4  [U:1:239638870]   Red     1        medic      12   424     12"
      ]
     },
     "execution_count": 18,
     "metadata": {},
     "output_type": "execute_result"
    }
   ],
   "source": [
    "df.head()"
   ]
  },
  {
   "cell_type": "code",
   "execution_count": 19,
   "metadata": {},
   "outputs": [
    {
     "name": "stdout",
     "output_type": "stream",
     "text": [
      "89195940\n",
      "89195940\n",
      "1\n",
      "1\n",
      "1\n",
      "89195940\n",
      "76561198049461668\n",
      "STEAM_1:0:44597970\n",
      "[U:1:89195940]\n",
      "https://steamcommunity.com/profiles/76561198049461668\n",
      "https://s.team/p/hhc-bhpg\n"
     ]
    }
   ],
   "source": [
    "from steam.steamid import SteamID\n",
    "\n",
    "idnum = '[U:1:89195940]'\n",
    "\n",
    "print (SteamID(idnum).id)\n",
    "print (SteamID(idnum).account_id)\n",
    "print (SteamID(idnum).instance)\n",
    "print (SteamID(idnum).type)\n",
    "print (SteamID(idnum).universe)\n",
    "print (SteamID(idnum).as_32)\n",
    "print (SteamID(idnum).as_64)\n",
    "print (SteamID(idnum).as_steam2)\n",
    "print (SteamID(idnum).as_steam3)\n",
    "print (SteamID(idnum).community_url)\n",
    "print (SteamID(idnum).invite_url)"
   ]
  }
 ],
 "metadata": {
  "kernelspec": {
   "display_name": "Python 3",
   "language": "python",
   "name": "python3"
  },
  "language_info": {
   "codemirror_mode": {
    "name": "ipython",
    "version": 3
   },
   "file_extension": ".py",
   "mimetype": "text/x-python",
   "name": "python",
   "nbconvert_exporter": "python",
   "pygments_lexer": "ipython3",
   "version": "3.11.1"
  },
  "orig_nbformat": 4
 },
 "nbformat": 4,
 "nbformat_minor": 2
}
