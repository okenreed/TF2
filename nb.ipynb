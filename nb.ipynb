{
 "cells": [
  {
   "attachments": {},
   "cell_type": "markdown",
   "metadata": {},
   "source": [
    "### Getting player data from Logs.tf API"
   ]
  },
  {
   "cell_type": "code",
   "execution_count": 8,
   "metadata": {},
   "outputs": [],
   "source": [
    "import json\n",
    "import pandas as pd\n",
    "import requests"
   ]
  },
  {
   "cell_type": "code",
   "execution_count": 9,
   "metadata": {},
   "outputs": [
    {
     "name": "stderr",
     "output_type": "stream",
     "text": [
      "/home/reedoken/.local/lib/python3.10/site-packages/urllib3/connectionpool.py:1095: InsecureRequestWarning: Unverified HTTPS request is being made to host 'logs.tf'. Adding certificate verification is strongly advised. See: https://urllib3.readthedocs.io/en/latest/advanced-usage.html#tls-warnings\n",
      "  warnings.warn(\n"
     ]
    }
   ],
   "source": [
    "url = 'https://logs.tf/api/v1/log?player=76561198049461668&limit=10'\n",
    "response = requests.get(url, verify=False)\n",
    "game_list = json.loads(response.content)"
   ]
  },
  {
   "cell_type": "code",
   "execution_count": 10,
   "metadata": {},
   "outputs": [],
   "source": [
    "df = pd.DataFrame(columns=['player_id', 'team', 'kills', 'player_class', 'assists', 'dmg', 'deaths'])\n",
    "default_url = 'https://logs.tf/api/v1/log/'"
   ]
  },
  {
   "cell_type": "code",
   "execution_count": 11,
   "metadata": {},
   "outputs": [
    {
     "name": "stderr",
     "output_type": "stream",
     "text": [
      "/home/reedoken/.local/lib/python3.10/site-packages/urllib3/connectionpool.py:1095: InsecureRequestWarning: Unverified HTTPS request is being made to host 'logs.tf'. Adding certificate verification is strongly advised. See: https://urllib3.readthedocs.io/en/latest/advanced-usage.html#tls-warnings\n",
      "  warnings.warn(\n",
      "/home/reedoken/.local/lib/python3.10/site-packages/urllib3/connectionpool.py:1095: InsecureRequestWarning: Unverified HTTPS request is being made to host 'logs.tf'. Adding certificate verification is strongly advised. See: https://urllib3.readthedocs.io/en/latest/advanced-usage.html#tls-warnings\n",
      "  warnings.warn(\n",
      "/home/reedoken/.local/lib/python3.10/site-packages/urllib3/connectionpool.py:1095: InsecureRequestWarning: Unverified HTTPS request is being made to host 'logs.tf'. Adding certificate verification is strongly advised. See: https://urllib3.readthedocs.io/en/latest/advanced-usage.html#tls-warnings\n",
      "  warnings.warn(\n",
      "/home/reedoken/.local/lib/python3.10/site-packages/urllib3/connectionpool.py:1095: InsecureRequestWarning: Unverified HTTPS request is being made to host 'logs.tf'. Adding certificate verification is strongly advised. See: https://urllib3.readthedocs.io/en/latest/advanced-usage.html#tls-warnings\n",
      "  warnings.warn(\n",
      "/home/reedoken/.local/lib/python3.10/site-packages/urllib3/connectionpool.py:1095: InsecureRequestWarning: Unverified HTTPS request is being made to host 'logs.tf'. Adding certificate verification is strongly advised. See: https://urllib3.readthedocs.io/en/latest/advanced-usage.html#tls-warnings\n",
      "  warnings.warn(\n",
      "/home/reedoken/.local/lib/python3.10/site-packages/urllib3/connectionpool.py:1095: InsecureRequestWarning: Unverified HTTPS request is being made to host 'logs.tf'. Adding certificate verification is strongly advised. See: https://urllib3.readthedocs.io/en/latest/advanced-usage.html#tls-warnings\n",
      "  warnings.warn(\n",
      "/home/reedoken/.local/lib/python3.10/site-packages/urllib3/connectionpool.py:1095: InsecureRequestWarning: Unverified HTTPS request is being made to host 'logs.tf'. Adding certificate verification is strongly advised. See: https://urllib3.readthedocs.io/en/latest/advanced-usage.html#tls-warnings\n",
      "  warnings.warn(\n",
      "/home/reedoken/.local/lib/python3.10/site-packages/urllib3/connectionpool.py:1095: InsecureRequestWarning: Unverified HTTPS request is being made to host 'logs.tf'. Adding certificate verification is strongly advised. See: https://urllib3.readthedocs.io/en/latest/advanced-usage.html#tls-warnings\n",
      "  warnings.warn(\n",
      "/home/reedoken/.local/lib/python3.10/site-packages/urllib3/connectionpool.py:1095: InsecureRequestWarning: Unverified HTTPS request is being made to host 'logs.tf'. Adding certificate verification is strongly advised. See: https://urllib3.readthedocs.io/en/latest/advanced-usage.html#tls-warnings\n",
      "  warnings.warn(\n",
      "/home/reedoken/.local/lib/python3.10/site-packages/urllib3/connectionpool.py:1095: InsecureRequestWarning: Unverified HTTPS request is being made to host 'logs.tf'. Adding certificate verification is strongly advised. See: https://urllib3.readthedocs.io/en/latest/advanced-usage.html#tls-warnings\n",
      "  warnings.warn(\n"
     ]
    }
   ],
   "source": [
    "for i in game_list['logs']:\n",
    "    if (i['players'] != 12):\n",
    "        continue\n",
    "    game_id = (i['id'])\n",
    "    url = default_url + str(game_id)\n",
    "    response = requests.get(url, verify=False)\n",
    "    stats = json.loads(response.content)\n",
    "    for j in stats['players']:\n",
    "        player_id = j\n",
    "        team = stats['players'][j]['team']\n",
    "        kills = stats['players'][j]['kills']\n",
    "        player_class = stats['players'][j]['class_stats'][0]['type']\n",
    "        assists = stats['players'][j]['assists']\n",
    "        dmg = stats['players'][j]['dmg']\n",
    "        deaths = stats['players'][j]['deaths']\n",
    "\n",
    "        row_dict = {'player_id': player_id, 'team': team, 'kills': kills, 'player_class': player_class, 'assists': assists, 'dmg': dmg, 'deaths': deaths}\n",
    "        temp_df = pd.DataFrame([row_dict])\n",
    "        df = pd.concat([df, temp_df], ignore_index=True)"
   ]
  },
  {
   "cell_type": "code",
   "execution_count": 12,
   "metadata": {},
   "outputs": [
    {
     "data": {
      "text/html": [
       "<div>\n",
       "<style scoped>\n",
       "    .dataframe tbody tr th:only-of-type {\n",
       "        vertical-align: middle;\n",
       "    }\n",
       "\n",
       "    .dataframe tbody tr th {\n",
       "        vertical-align: top;\n",
       "    }\n",
       "\n",
       "    .dataframe thead th {\n",
       "        text-align: right;\n",
       "    }\n",
       "</style>\n",
       "<table border=\"1\" class=\"dataframe\">\n",
       "  <thead>\n",
       "    <tr style=\"text-align: right;\">\n",
       "      <th></th>\n",
       "      <th>player_id</th>\n",
       "      <th>team</th>\n",
       "      <th>kills</th>\n",
       "      <th>player_class</th>\n",
       "      <th>assists</th>\n",
       "      <th>dmg</th>\n",
       "      <th>deaths</th>\n",
       "    </tr>\n",
       "  </thead>\n",
       "  <tbody>\n",
       "    <tr>\n",
       "      <th>0</th>\n",
       "      <td>[U:1:75438474]</td>\n",
       "      <td>Blue</td>\n",
       "      <td>8</td>\n",
       "      <td>scout</td>\n",
       "      <td>6</td>\n",
       "      <td>2420</td>\n",
       "      <td>8</td>\n",
       "    </tr>\n",
       "    <tr>\n",
       "      <th>1</th>\n",
       "      <td>[U:1:85413659]</td>\n",
       "      <td>Blue</td>\n",
       "      <td>7</td>\n",
       "      <td>soldier</td>\n",
       "      <td>5</td>\n",
       "      <td>2609</td>\n",
       "      <td>10</td>\n",
       "    </tr>\n",
       "    <tr>\n",
       "      <th>2</th>\n",
       "      <td>[U:1:10403381]</td>\n",
       "      <td>Blue</td>\n",
       "      <td>23</td>\n",
       "      <td>scout</td>\n",
       "      <td>13</td>\n",
       "      <td>4539</td>\n",
       "      <td>0</td>\n",
       "    </tr>\n",
       "    <tr>\n",
       "      <th>3</th>\n",
       "      <td>[U:1:117668615]</td>\n",
       "      <td>Red</td>\n",
       "      <td>3</td>\n",
       "      <td>soldier</td>\n",
       "      <td>1</td>\n",
       "      <td>1786</td>\n",
       "      <td>12</td>\n",
       "    </tr>\n",
       "    <tr>\n",
       "      <th>4</th>\n",
       "      <td>[U:1:122797343]</td>\n",
       "      <td>Blue</td>\n",
       "      <td>12</td>\n",
       "      <td>demoman</td>\n",
       "      <td>6</td>\n",
       "      <td>4814</td>\n",
       "      <td>2</td>\n",
       "    </tr>\n",
       "  </tbody>\n",
       "</table>\n",
       "</div>"
      ],
      "text/plain": [
       "         player_id  team kills player_class assists   dmg deaths\n",
       "0   [U:1:75438474]  Blue     8        scout       6  2420      8\n",
       "1   [U:1:85413659]  Blue     7      soldier       5  2609     10\n",
       "2   [U:1:10403381]  Blue    23        scout      13  4539      0\n",
       "3  [U:1:117668615]   Red     3      soldier       1  1786     12\n",
       "4  [U:1:122797343]  Blue    12      demoman       6  4814      2"
      ]
     },
     "execution_count": 12,
     "metadata": {},
     "output_type": "execute_result"
    }
   ],
   "source": [
    "df.head()"
   ]
  },
  {
   "cell_type": "code",
   "execution_count": 19,
   "metadata": {},
   "outputs": [],
   "source": [
    "df['player_id'] = df['player_id'].str.rstrip()"
   ]
  },
  {
   "cell_type": "code",
   "execution_count": 27,
   "metadata": {},
   "outputs": [],
   "source": [
    "from steam.steamid import SteamID\n",
    "\n",
    "def get_steamid(player_id):\n",
    "    idnum = SteamID(player_id).as_64\n",
    "    return idnum"
   ]
  },
  {
   "cell_type": "code",
   "execution_count": 49,
   "metadata": {},
   "outputs": [],
   "source": [
    "df['steamid'] = df['player_id'].apply(lambda x: str(SteamID(x).as_64))"
   ]
  },
  {
   "cell_type": "code",
   "execution_count": 50,
   "metadata": {},
   "outputs": [],
   "source": [
    "df['steamid'] = df['steamid'].str.rstrip()"
   ]
  },
  {
   "cell_type": "code",
   "execution_count": 51,
   "metadata": {},
   "outputs": [
    {
     "data": {
      "text/html": [
       "<div>\n",
       "<style scoped>\n",
       "    .dataframe tbody tr th:only-of-type {\n",
       "        vertical-align: middle;\n",
       "    }\n",
       "\n",
       "    .dataframe tbody tr th {\n",
       "        vertical-align: top;\n",
       "    }\n",
       "\n",
       "    .dataframe thead th {\n",
       "        text-align: right;\n",
       "    }\n",
       "</style>\n",
       "<table border=\"1\" class=\"dataframe\">\n",
       "  <thead>\n",
       "    <tr style=\"text-align: right;\">\n",
       "      <th></th>\n",
       "      <th>player_id</th>\n",
       "      <th>team</th>\n",
       "      <th>kills</th>\n",
       "      <th>player_class</th>\n",
       "      <th>assists</th>\n",
       "      <th>dmg</th>\n",
       "      <th>deaths</th>\n",
       "      <th>steamid</th>\n",
       "    </tr>\n",
       "  </thead>\n",
       "  <tbody>\n",
       "    <tr>\n",
       "      <th>0</th>\n",
       "      <td>[U:1:75438474]</td>\n",
       "      <td>Blue</td>\n",
       "      <td>8</td>\n",
       "      <td>scout</td>\n",
       "      <td>6</td>\n",
       "      <td>2420</td>\n",
       "      <td>8</td>\n",
       "      <td>76561198035704202</td>\n",
       "    </tr>\n",
       "    <tr>\n",
       "      <th>1</th>\n",
       "      <td>[U:1:85413659]</td>\n",
       "      <td>Blue</td>\n",
       "      <td>7</td>\n",
       "      <td>soldier</td>\n",
       "      <td>5</td>\n",
       "      <td>2609</td>\n",
       "      <td>10</td>\n",
       "      <td>76561198045679387</td>\n",
       "    </tr>\n",
       "    <tr>\n",
       "      <th>2</th>\n",
       "      <td>[U:1:10403381]</td>\n",
       "      <td>Blue</td>\n",
       "      <td>23</td>\n",
       "      <td>scout</td>\n",
       "      <td>13</td>\n",
       "      <td>4539</td>\n",
       "      <td>0</td>\n",
       "      <td>76561197970669109</td>\n",
       "    </tr>\n",
       "    <tr>\n",
       "      <th>3</th>\n",
       "      <td>[U:1:117668615]</td>\n",
       "      <td>Red</td>\n",
       "      <td>3</td>\n",
       "      <td>soldier</td>\n",
       "      <td>1</td>\n",
       "      <td>1786</td>\n",
       "      <td>12</td>\n",
       "      <td>76561198077934343</td>\n",
       "    </tr>\n",
       "    <tr>\n",
       "      <th>4</th>\n",
       "      <td>[U:1:122797343]</td>\n",
       "      <td>Blue</td>\n",
       "      <td>12</td>\n",
       "      <td>demoman</td>\n",
       "      <td>6</td>\n",
       "      <td>4814</td>\n",
       "      <td>2</td>\n",
       "      <td>76561198083063071</td>\n",
       "    </tr>\n",
       "  </tbody>\n",
       "</table>\n",
       "</div>"
      ],
      "text/plain": [
       "         player_id  team kills player_class assists   dmg deaths   \n",
       "0   [U:1:75438474]  Blue     8        scout       6  2420      8  \\\n",
       "1   [U:1:85413659]  Blue     7      soldier       5  2609     10   \n",
       "2   [U:1:10403381]  Blue    23        scout      13  4539      0   \n",
       "3  [U:1:117668615]   Red     3      soldier       1  1786     12   \n",
       "4  [U:1:122797343]  Blue    12      demoman       6  4814      2   \n",
       "\n",
       "             steamid  \n",
       "0  76561198035704202  \n",
       "1  76561198045679387  \n",
       "2  76561197970669109  \n",
       "3  76561198077934343  \n",
       "4  76561198083063071  "
      ]
     },
     "execution_count": 51,
     "metadata": {},
     "output_type": "execute_result"
    }
   ],
   "source": [
    "df.head()"
   ]
  },
  {
   "attachments": {},
   "cell_type": "markdown",
   "metadata": {},
   "source": [
    "### Managing player aliases from RGL API"
   ]
  },
  {
   "cell_type": "code",
   "execution_count": 85,
   "metadata": {},
   "outputs": [
    {
     "data": {
      "text/html": [
       "<div>\n",
       "<style scoped>\n",
       "    .dataframe tbody tr th:only-of-type {\n",
       "        vertical-align: middle;\n",
       "    }\n",
       "\n",
       "    .dataframe tbody tr th {\n",
       "        vertical-align: top;\n",
       "    }\n",
       "\n",
       "    .dataframe thead th {\n",
       "        text-align: right;\n",
       "    }\n",
       "</style>\n",
       "<table border=\"1\" class=\"dataframe\">\n",
       "  <thead>\n",
       "    <tr style=\"text-align: right;\">\n",
       "      <th></th>\n",
       "      <th>player_id</th>\n",
       "      <th>team</th>\n",
       "      <th>kills</th>\n",
       "      <th>player_class</th>\n",
       "      <th>assists</th>\n",
       "      <th>dmg</th>\n",
       "      <th>deaths</th>\n",
       "      <th>steamid</th>\n",
       "    </tr>\n",
       "  </thead>\n",
       "  <tbody>\n",
       "    <tr>\n",
       "      <th>0</th>\n",
       "      <td>[U:1:75438474]</td>\n",
       "      <td>Blue</td>\n",
       "      <td>8</td>\n",
       "      <td>scout</td>\n",
       "      <td>6</td>\n",
       "      <td>2420</td>\n",
       "      <td>8</td>\n",
       "      <td>76561198035704202</td>\n",
       "    </tr>\n",
       "    <tr>\n",
       "      <th>1</th>\n",
       "      <td>[U:1:85413659]</td>\n",
       "      <td>Blue</td>\n",
       "      <td>7</td>\n",
       "      <td>soldier</td>\n",
       "      <td>5</td>\n",
       "      <td>2609</td>\n",
       "      <td>10</td>\n",
       "      <td>76561198045679387</td>\n",
       "    </tr>\n",
       "    <tr>\n",
       "      <th>2</th>\n",
       "      <td>[U:1:10403381]</td>\n",
       "      <td>Blue</td>\n",
       "      <td>23</td>\n",
       "      <td>scout</td>\n",
       "      <td>13</td>\n",
       "      <td>4539</td>\n",
       "      <td>0</td>\n",
       "      <td>76561197970669109</td>\n",
       "    </tr>\n",
       "    <tr>\n",
       "      <th>3</th>\n",
       "      <td>[U:1:117668615]</td>\n",
       "      <td>Red</td>\n",
       "      <td>3</td>\n",
       "      <td>soldier</td>\n",
       "      <td>1</td>\n",
       "      <td>1786</td>\n",
       "      <td>12</td>\n",
       "      <td>76561198077934343</td>\n",
       "    </tr>\n",
       "    <tr>\n",
       "      <th>4</th>\n",
       "      <td>[U:1:122797343]</td>\n",
       "      <td>Blue</td>\n",
       "      <td>12</td>\n",
       "      <td>demoman</td>\n",
       "      <td>6</td>\n",
       "      <td>4814</td>\n",
       "      <td>2</td>\n",
       "      <td>76561198083063071</td>\n",
       "    </tr>\n",
       "  </tbody>\n",
       "</table>\n",
       "</div>"
      ],
      "text/plain": [
       "         player_id  team kills player_class assists   dmg deaths   \n",
       "0   [U:1:75438474]  Blue     8        scout       6  2420      8  \\\n",
       "1   [U:1:85413659]  Blue     7      soldier       5  2609     10   \n",
       "2   [U:1:10403381]  Blue    23        scout      13  4539      0   \n",
       "3  [U:1:117668615]   Red     3      soldier       1  1786     12   \n",
       "4  [U:1:122797343]  Blue    12      demoman       6  4814      2   \n",
       "\n",
       "             steamid  \n",
       "0  76561198035704202  \n",
       "1  76561198045679387  \n",
       "2  76561197970669109  \n",
       "3  76561198077934343  \n",
       "4  76561198083063071  "
      ]
     },
     "execution_count": 85,
     "metadata": {},
     "output_type": "execute_result"
    }
   ],
   "source": [
    "df.head()"
   ]
  },
  {
   "cell_type": "code",
   "execution_count": 88,
   "metadata": {},
   "outputs": [
    {
     "name": "stdout",
     "output_type": "stream",
     "text": [
      "['76561198035704202', '76561198045679387', '76561197970669109', '76561198077934343', '76561198083063071', '76561198017539604', '76561198045838834', '76561198146255593', '76561198068686187', '76561198051499968', '76561198216487540', '76561198049461668', '76561198053743602', '76561198044219900', '76561198843277640', '76561197995794137', '76561198090577320', '76561198044736807', '76561198099843841', '76561198067295068', '76561198118877005', '76561198094788852', '76561198084582998', '76561198096347625', '76561198079513105']\n"
     ]
    }
   ],
   "source": [
    "columns = df.drop(['player_id', 'steamid'], axis=1).columns.tolist()\n",
    "\n",
    "player_df = df.drop(columns, axis=1)\n",
    "player_df = player_df.drop_duplicates()\n",
    "\n",
    "player_df = player_df.drop(index=player_df.tail(10).index)\n",
    "\n",
    "steamids = [f'\"{steamid}\"' for steamid in player_df['steamid']]\n",
    "\n",
    "# create a string with comma-separated SteamIDs enclosed in square brackets\n",
    "steamids_str = \"[\" + \", \".join(steamids) + \"]\"\n",
    "\n",
    "# create the JSON data to be sent in the POST request\n",
    "data = json.loads(steamids_str)\n",
    "\n",
    "print(data)\n"
   ]
  },
  {
   "cell_type": "code",
   "execution_count": 84,
   "metadata": {},
   "outputs": [
    {
     "name": "stdout",
     "output_type": "stream",
     "text": [
      "<Response [405]>\n"
     ]
    },
    {
     "ename": "JSONDecodeError",
     "evalue": "Expecting value: line 1 column 1 (char 0)",
     "output_type": "error",
     "traceback": [
      "\u001b[0;31m---------------------------------------------------------------------------\u001b[0m",
      "\u001b[0;31mJSONDecodeError\u001b[0m                           Traceback (most recent call last)",
      "File \u001b[0;32m~/.local/lib/python3.10/site-packages/requests/models.py:971\u001b[0m, in \u001b[0;36mResponse.json\u001b[0;34m(self, **kwargs)\u001b[0m\n\u001b[1;32m    970\u001b[0m \u001b[39mtry\u001b[39;00m:\n\u001b[0;32m--> 971\u001b[0m     \u001b[39mreturn\u001b[39;00m complexjson\u001b[39m.\u001b[39;49mloads(\u001b[39mself\u001b[39;49m\u001b[39m.\u001b[39;49mtext, \u001b[39m*\u001b[39;49m\u001b[39m*\u001b[39;49mkwargs)\n\u001b[1;32m    972\u001b[0m \u001b[39mexcept\u001b[39;00m JSONDecodeError \u001b[39mas\u001b[39;00m e:\n\u001b[1;32m    973\u001b[0m     \u001b[39m# Catch JSON-related errors and raise as requests.JSONDecodeError\u001b[39;00m\n\u001b[1;32m    974\u001b[0m     \u001b[39m# This aliases json.JSONDecodeError and simplejson.JSONDecodeError\u001b[39;00m\n",
      "File \u001b[0;32m/usr/lib/python3.10/json/__init__.py:346\u001b[0m, in \u001b[0;36mloads\u001b[0;34m(s, cls, object_hook, parse_float, parse_int, parse_constant, object_pairs_hook, **kw)\u001b[0m\n\u001b[1;32m    343\u001b[0m \u001b[39mif\u001b[39;00m (\u001b[39mcls\u001b[39m \u001b[39mis\u001b[39;00m \u001b[39mNone\u001b[39;00m \u001b[39mand\u001b[39;00m object_hook \u001b[39mis\u001b[39;00m \u001b[39mNone\u001b[39;00m \u001b[39mand\u001b[39;00m\n\u001b[1;32m    344\u001b[0m         parse_int \u001b[39mis\u001b[39;00m \u001b[39mNone\u001b[39;00m \u001b[39mand\u001b[39;00m parse_float \u001b[39mis\u001b[39;00m \u001b[39mNone\u001b[39;00m \u001b[39mand\u001b[39;00m\n\u001b[1;32m    345\u001b[0m         parse_constant \u001b[39mis\u001b[39;00m \u001b[39mNone\u001b[39;00m \u001b[39mand\u001b[39;00m object_pairs_hook \u001b[39mis\u001b[39;00m \u001b[39mNone\u001b[39;00m \u001b[39mand\u001b[39;00m \u001b[39mnot\u001b[39;00m kw):\n\u001b[0;32m--> 346\u001b[0m     \u001b[39mreturn\u001b[39;00m _default_decoder\u001b[39m.\u001b[39;49mdecode(s)\n\u001b[1;32m    347\u001b[0m \u001b[39mif\u001b[39;00m \u001b[39mcls\u001b[39m \u001b[39mis\u001b[39;00m \u001b[39mNone\u001b[39;00m:\n",
      "File \u001b[0;32m/usr/lib/python3.10/json/decoder.py:337\u001b[0m, in \u001b[0;36mJSONDecoder.decode\u001b[0;34m(self, s, _w)\u001b[0m\n\u001b[1;32m    333\u001b[0m \u001b[39m\u001b[39m\u001b[39m\"\"\"Return the Python representation of ``s`` (a ``str`` instance\u001b[39;00m\n\u001b[1;32m    334\u001b[0m \u001b[39mcontaining a JSON document).\u001b[39;00m\n\u001b[1;32m    335\u001b[0m \n\u001b[1;32m    336\u001b[0m \u001b[39m\"\"\"\u001b[39;00m\n\u001b[0;32m--> 337\u001b[0m obj, end \u001b[39m=\u001b[39m \u001b[39mself\u001b[39;49m\u001b[39m.\u001b[39;49mraw_decode(s, idx\u001b[39m=\u001b[39;49m_w(s, \u001b[39m0\u001b[39;49m)\u001b[39m.\u001b[39;49mend())\n\u001b[1;32m    338\u001b[0m end \u001b[39m=\u001b[39m _w(s, end)\u001b[39m.\u001b[39mend()\n",
      "File \u001b[0;32m/usr/lib/python3.10/json/decoder.py:355\u001b[0m, in \u001b[0;36mJSONDecoder.raw_decode\u001b[0;34m(self, s, idx)\u001b[0m\n\u001b[1;32m    354\u001b[0m \u001b[39mexcept\u001b[39;00m \u001b[39mStopIteration\u001b[39;00m \u001b[39mas\u001b[39;00m err:\n\u001b[0;32m--> 355\u001b[0m     \u001b[39mraise\u001b[39;00m JSONDecodeError(\u001b[39m\"\u001b[39m\u001b[39mExpecting value\u001b[39m\u001b[39m\"\u001b[39m, s, err\u001b[39m.\u001b[39mvalue) \u001b[39mfrom\u001b[39;00m \u001b[39mNone\u001b[39;00m\n\u001b[1;32m    356\u001b[0m \u001b[39mreturn\u001b[39;00m obj, end\n",
      "\u001b[0;31mJSONDecodeError\u001b[0m: Expecting value: line 1 column 1 (char 0)",
      "\nDuring handling of the above exception, another exception occurred:\n",
      "\u001b[0;31mJSONDecodeError\u001b[0m                           Traceback (most recent call last)",
      "Cell \u001b[0;32mIn[84], line 13\u001b[0m\n\u001b[1;32m      9\u001b[0m response \u001b[39m=\u001b[39m requests\u001b[39m.\u001b[39mpost(url, headers\u001b[39m=\u001b[39mheaders, data\u001b[39m=\u001b[39mdata)\n\u001b[1;32m     11\u001b[0m \u001b[39mprint\u001b[39m(response)\n\u001b[0;32m---> 13\u001b[0m \u001b[39mprint\u001b[39m(response\u001b[39m.\u001b[39;49mjson())\n",
      "File \u001b[0;32m~/.local/lib/python3.10/site-packages/requests/models.py:975\u001b[0m, in \u001b[0;36mResponse.json\u001b[0;34m(self, **kwargs)\u001b[0m\n\u001b[1;32m    971\u001b[0m     \u001b[39mreturn\u001b[39;00m complexjson\u001b[39m.\u001b[39mloads(\u001b[39mself\u001b[39m\u001b[39m.\u001b[39mtext, \u001b[39m*\u001b[39m\u001b[39m*\u001b[39mkwargs)\n\u001b[1;32m    972\u001b[0m \u001b[39mexcept\u001b[39;00m JSONDecodeError \u001b[39mas\u001b[39;00m e:\n\u001b[1;32m    973\u001b[0m     \u001b[39m# Catch JSON-related errors and raise as requests.JSONDecodeError\u001b[39;00m\n\u001b[1;32m    974\u001b[0m     \u001b[39m# This aliases json.JSONDecodeError and simplejson.JSONDecodeError\u001b[39;00m\n\u001b[0;32m--> 975\u001b[0m     \u001b[39mraise\u001b[39;00m RequestsJSONDecodeError(e\u001b[39m.\u001b[39mmsg, e\u001b[39m.\u001b[39mdoc, e\u001b[39m.\u001b[39mpos)\n",
      "\u001b[0;31mJSONDecodeError\u001b[0m: Expecting value: line 1 column 1 (char 0)"
     ]
    }
   ],
   "source": [
    "rgl_player_url = 'https://api.rgl.gg/v0/profile/getmany'\n",
    "\n",
    "headers = {\n",
    "    \"accept\": \"*/*\",\n",
    "    \"Content-Type\": \"application/json\",\n",
    "}\n",
    "\n",
    "\n",
    "response = requests.post(url, headers=headers, data=data)\n",
    "\n",
    "print(response)\n",
    "\n",
    "print(response.json())"
   ]
  }
 ],
 "metadata": {
  "kernelspec": {
   "display_name": "Python 3",
   "language": "python",
   "name": "python3"
  },
  "language_info": {
   "codemirror_mode": {
    "name": "ipython",
    "version": 3
   },
   "file_extension": ".py",
   "mimetype": "text/x-python",
   "name": "python",
   "nbconvert_exporter": "python",
   "pygments_lexer": "ipython3",
   "version": "3.10.6"
  },
  "orig_nbformat": 4
 },
 "nbformat": 4,
 "nbformat_minor": 2
}
